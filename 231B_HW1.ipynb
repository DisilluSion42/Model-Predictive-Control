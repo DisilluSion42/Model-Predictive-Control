{
 "cells": [
  {
   "cell_type": "markdown",
   "id": "8211869c",
   "metadata": {},
   "source": [
    "Problem 5 a"
   ]
  },
  {
   "cell_type": "code",
   "execution_count": 6,
   "id": "d87eb36f",
   "metadata": {},
   "outputs": [
    {
     "data": {
      "text/latex": [
       "$\\displaystyle 1$"
      ],
      "text/plain": [
       "1"
      ]
     },
     "execution_count": 6,
     "metadata": {},
     "output_type": "execute_result"
    }
   ],
   "source": [
    "import sympy\n",
    "from sympy import *\n",
    "\n",
    "# Define variables and parameters\n",
    "t = Symbol('t')\n",
    "Lambda = 1000\n",
    "\n",
    "# Define PDF in this problem\n",
    "ft = (2*t/(Lambda**2)) * exp(-(t**2)/(Lambda**2))\n",
    "\n",
    "# Solve the integral of PDF over the whole domain\n",
    "integrate(ft, (t, 0, oo))"
   ]
  },
  {
   "cell_type": "markdown",
   "id": "4d7fc5c8",
   "metadata": {},
   "source": [
    "Problem 5 b"
   ]
  },
  {
   "cell_type": "code",
   "execution_count": 11,
   "id": "779c855f",
   "metadata": {},
   "outputs": [
    {
     "data": {
      "text/latex": [
       "$\\displaystyle - e^{- \\frac{t^{2}}{1000000}}$"
      ],
      "text/plain": [
       "-exp(-t**2/1000000)"
      ]
     },
     "execution_count": 11,
     "metadata": {},
     "output_type": "execute_result"
    }
   ],
   "source": [
    "# Define variables and parameters\n",
    "t = Symbol('t')\n",
    "Lambda = 1000\n",
    "\n",
    "# Define PDF in this problem\n",
    "ft = (2*t/(Lambda**2)) * exp(-(t**2)/(Lambda**2))\n",
    "\n",
    "# Solve the CDF\n",
    "integrate(ft, t)"
   ]
  },
  {
   "cell_type": "markdown",
   "id": "471db7df",
   "metadata": {},
   "source": [
    "Problem 5 c"
   ]
  },
  {
   "cell_type": "code",
   "execution_count": 12,
   "id": "3f855802",
   "metadata": {
    "scrolled": true
   },
   "outputs": [
    {
     "data": {
      "text/latex": [
       "$\\displaystyle 500 \\sqrt{\\pi}$"
      ],
      "text/plain": [
       "500*sqrt(pi)"
      ]
     },
     "execution_count": 12,
     "metadata": {},
     "output_type": "execute_result"
    }
   ],
   "source": [
    "# Define variables and parameters\n",
    "t = Symbol('t')\n",
    "Lambda = 1000\n",
    "\n",
    "# Define PDF in this problem\n",
    "ft = (2*t/(Lambda**2)) * exp(-(t**2)/(Lambda**2))\n",
    "\n",
    "# Solve the expected value\n",
    "integrate(t*ft, (t, 0 ,oo))"
   ]
  },
  {
   "cell_type": "markdown",
   "id": "10129afb",
   "metadata": {},
   "source": [
    "Problem 5 d"
   ]
  },
  {
   "cell_type": "code",
   "execution_count": 13,
   "id": "9d60bd63",
   "metadata": {
    "scrolled": true
   },
   "outputs": [
    {
     "data": {
      "text/latex": [
       "$\\displaystyle 1000000$"
      ],
      "text/plain": [
       "1000000"
      ]
     },
     "execution_count": 13,
     "metadata": {},
     "output_type": "execute_result"
    }
   ],
   "source": [
    "# Define variables and parameters\n",
    "t = Symbol('t')\n",
    "Lambda = 1000\n",
    "\n",
    "# Define PDF in this problem\n",
    "ft = (2*t/(Lambda**2)) * exp(-(t**2)/(Lambda**2))\n",
    "\n",
    "# Solve the integral\n",
    "integrate((t**2)*ft, (t, 0 ,oo))"
   ]
  },
  {
   "cell_type": "markdown",
   "id": "24eb284a",
   "metadata": {},
   "source": [
    "Problem 5 e"
   ]
  },
  {
   "cell_type": "code",
   "execution_count": 188,
   "id": "3b2a5805",
   "metadata": {},
   "outputs": [
    {
     "name": "stdout",
     "output_type": "stream",
     "text": [
      "When scheduling preventative maintenance at 1, the estimated average cost is 50.0002\n",
      "When scheduling preventative maintenance at 10, the estimated average cost is 5.0043\n",
      "When scheduling preventative maintenance at 100, the estimated average cost is 0.5447\n",
      "When scheduling preventative maintenance at 1000, the estimated average cost is 0.3924\n",
      "When scheduling preventative maintenance at 10000, the estimated average cost is 0.4437\n"
     ]
    }
   ],
   "source": [
    "import numpy as np\n",
    "import sympy as sy\n",
    "import matplotlib.pyplot as plt\n",
    "from sympy import *\n",
    "\n",
    "# Define the problem\n",
    "t = sy.Symbol('t', negative=False)\n",
    "tm = [1, 10, 100, 1000, 10000]\n",
    "cm = 50\n",
    "cr = 250\n",
    "Lambda = 1000\n",
    "\n",
    "f = (2*t/(Lambda**2)) * exp(-(t**2)/(Lambda**2)) # PDF\n",
    "F = sy.integrate(f, t) + 1 # CDF\n",
    "\n",
    "# Uniform distribution samples\n",
    "np.random.seed(2)\n",
    "u = np.random.uniform(0,1,1000000)\n",
    "\n",
    "# Solve F(t)=u to draw samples of t\n",
    "y = sy.Symbol('y')\n",
    "F_inv = sy.lambdify(y, Lambda*sqrt(log(1/(1-y))))\n",
    "t_samp = F_inv(u)\n",
    "\n",
    "# Define running cost \n",
    "def rn_cst(t0, tm): \n",
    "    return (t0<=tm)*(cr/t0) + (t0>tm)*(cm/tm)\n",
    "\n",
    "#Evaluate the average running cost in each case of tm\n",
    "for i in range(len(tm)): \n",
    "    R = np.mean(rn_cst(t_samp, tm[i]))\n",
    "    print('When scheduling preventative maintenance at {}, the estimated average cost is {:.4f}'.format(tm[i], R))\n"
   ]
  },
  {
   "cell_type": "markdown",
   "id": "6f529a80",
   "metadata": {},
   "source": [
    "Problem 5 f"
   ]
  },
  {
   "cell_type": "code",
   "execution_count": 27,
   "id": "cebb66bf",
   "metadata": {},
   "outputs": [
    {
     "name": "stdout",
     "output_type": "stream",
     "text": [
      "[-250*sqrt(2), 250*sqrt(2)]\n"
     ]
    }
   ],
   "source": [
    "import numpy as np\n",
    "import sympy as sy\n",
    "import matplotlib.pyplot as plt\n",
    "from sympy import *\n",
    "\n",
    "t = Symbol('t')\n",
    "tm = Symbol('tm')\n",
    "Lambda = 1000\n",
    "cm = 50\n",
    "cr = 250\n",
    "\n",
    "ft1 = (cr/t)*(2*t/(Lambda**2)) * exp(-(t**2)/(Lambda**2))\n",
    "ft2 = (cm/tm)*(2*t/(Lambda**2)) * exp(-(t**2)/(Lambda**2))\n",
    "\n",
    "ER = integrate(ft1, (t,0,tm)) + integrate(ft2, (t, tm, oo))\n",
    "dER = diff(ER, tm)\n",
    "tm0 = sy.solve(dER, tm)\n",
    "print(tm0)"
   ]
  },
  {
   "cell_type": "code",
   "execution_count": 41,
   "id": "737cc41b",
   "metadata": {},
   "outputs": [
    {
     "name": "stdout",
     "output_type": "stream",
     "text": [
      "True\n"
     ]
    }
   ],
   "source": [
    "print(ER.subs(tm, tm0[0]) < ER.subs(tm, tm0[1]))"
   ]
  }
 ],
 "metadata": {
  "kernelspec": {
   "display_name": "Python 3 (ipykernel)",
   "language": "python",
   "name": "python3"
  },
  "language_info": {
   "codemirror_mode": {
    "name": "ipython",
    "version": 3
   },
   "file_extension": ".py",
   "mimetype": "text/x-python",
   "name": "python",
   "nbconvert_exporter": "python",
   "pygments_lexer": "ipython3",
   "version": "3.9.10"
  }
 },
 "nbformat": 4,
 "nbformat_minor": 5
}
